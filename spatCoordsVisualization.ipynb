{
 "cells": [
  {
   "cell_type": "code",
   "execution_count": 5,
   "id": "a0277eb8",
   "metadata": {},
   "outputs": [],
   "source": [
    "import numpy as np\n",
    "import depthai as dai\n",
    "import json\n",
    "import sys\n",
    "import os\n",
    "import tifffile as tiff\n",
    "import math\n",
    "import matplotlib.pyplot as plt\n",
    "\n",
    "\n",
    "os.chdir(r\"C:\\Users\\hnvul\\Documents\\GitHub\\fishsense-oakd\\Videos\")\n",
    "\n",
    "frame = tiff.imread('depth.tif', key=range(20))\n",
    "dispFrame = tiff.imread('disp.tif', key=range(20))\n",
    "f = open('calibData.json')\n",
    "data = json.load(f)\n",
    "monoHFOV = np.deg2rad(data['cameraData'][1][1]['specHfovDeg'])\n",
    "\n",
    "def _calc_angle(frame, offset):\n",
    "    return math.atan(math.tan(monoHFOV / 2.0) * offset / (frame.shape[1] / 2.0))\n",
    "\n",
    "# roi has to be list of ints\n",
    "def calc_spatials(depthFrame, roi, averaging_method=np.mean):\n",
    "    # roi = self._check_input(roi, depthFrame) # If point was passed, convert it to ROI\n",
    "    THRESH_LOW = 200 # 20cm\n",
    "    THRESH_HIGH = 30000 # 30m\n",
    "\n",
    "    x, y = roi\n",
    "\n",
    "    # Calculate the average depth in the ROI.\n",
    "    depthROI = depthFrame[y, x]\n",
    "    inRange = (THRESH_LOW <= depthROI) & (depthROI <= THRESH_HIGH)\n",
    "\n",
    "    averageDepth = averaging_method(depthROI[inRange])\n",
    "\n",
    "    centroid = { # Get centroid of the ROI\n",
    "        'x': int((x + x) / 2),\n",
    "        'y': int((y + y) / 2)\n",
    "    }\n",
    "\n",
    "    midW = int(depthFrame.shape[1] / 2) # middle of the depth img width\n",
    "    midH = int(depthFrame.shape[0] / 2) # middle of the depth img height\n",
    "    bb_x_pos = centroid['x'] - midW\n",
    "    bb_y_pos = centroid['y'] - midH\n",
    "\n",
    "    angle_x = _calc_angle(depthFrame, bb_x_pos)\n",
    "    angle_y = _calc_angle(depthFrame, bb_y_pos)\n",
    "\n",
    "    spatials = {\n",
    "        'z': averageDepth,\n",
    "        'x': averageDepth * math.tan(angle_x),\n",
    "        'y': -averageDepth * math.tan(angle_y)\n",
    "    }\n",
    "    return spatials, centroid"
   ]
  },
  {
   "cell_type": "code",
   "execution_count": 6,
   "id": "30035327",
   "metadata": {},
   "outputs": [
    {
     "name": "stdout",
     "output_type": "stream",
     "text": [
      "(20, 400, 640)\n",
      "(20, 400, 640)\n"
     ]
    }
   ],
   "source": [
    "print(frame.shape)\n",
    "print(dispFrame.shape)"
   ]
  },
  {
   "cell_type": "code",
   "execution_count": null,
   "id": "2fa7dee1",
   "metadata": {},
   "outputs": [
    {
     "name": "stderr",
     "output_type": "stream",
     "text": [
      "C:\\Users\\hnvul\\AppData\\Local\\Programs\\Python\\Python310\\lib\\site-packages\\numpy\\core\\fromnumeric.py:3432: RuntimeWarning: Mean of empty slice.\n",
      "  return _methods._mean(a, axis=axis, dtype=dtype,\n",
      "C:\\Users\\hnvul\\AppData\\Local\\Programs\\Python\\Python310\\lib\\site-packages\\numpy\\core\\_methods.py:190: RuntimeWarning: invalid value encountered in double_scalars\n",
      "  ret = ret.dtype.type(ret / rcount)\n"
     ]
    }
   ],
   "source": [
    "array = np.empty((frame.shape[0], frame.shape[1] * frame.shape[2],3))\n",
    "for k in range (0, frame.shape[0]):\n",
    "    temp = 0\n",
    "    for i in range(0, frame.shape[1]):\n",
    "        for j in range(0, frame.shape[2]):\n",
    "            coords, pixel = calc_spatials(frame[k], [j,i], averaging_method=np.mean)\n",
    "            pixelCoords = np.array([coords['x'], coords['y'], coords['z']])\n",
    "            if (np.isnan(pixelCoords).any()):\n",
    "                continue\n",
    "            array[k,temp] = pixelCoords\n",
    "            temp += 1"
   ]
  },
  {
   "cell_type": "code",
   "execution_count": null,
   "id": "eb0b0c17",
   "metadata": {},
   "outputs": [],
   "source": [
    "print(array.shape)\n",
    "print(array)"
   ]
  },
  {
   "cell_type": "code",
   "execution_count": null,
   "id": "c7067d18",
   "metadata": {},
   "outputs": [],
   "source": [
    "import open3d as o3d\n",
    "# geometry = o3d.geometry.PointCloud()\n",
    "# geometry.points = o3d.utility.Vector3dVector(array[18])\n",
    "# o3d.visualization.draw_geometries([geometry])\n",
    "\n",
    "vis = o3d.visualization.VisualizerWithKeyCallback()\n",
    "vis.create_window()\n",
    "geometry = o3d.geometry.PointCloud()\n",
    "geometry.points = o3d.utility.Vector3dVector(array[0])\n",
    "vis.add_geometry(geometry)\n",
    "for i in range(1,frame.shape[0]):\n",
    "    geometry.points = o3d.utility.Vector3dVector(array[i])\n",
    "    vis.update_geometry(geometry)\n",
    "    vis.poll_events()\n",
    "    vis.update_renderer()\n",
    "vis.destroy_window()\n",
    "\n",
    "# vis = o3d.visualization.Visualizer()\n",
    "# vis.create_window()\n",
    "# # geometry is the point cloud used in your animaiton\n",
    "# geometry = o3d.geometry.PointCloud()\n",
    "# geometry.points = o3d.utility.Vector3dVector(array[0])\n",
    "# vis.add_geometry(geometry)\n",
    "\n",
    "# for i in range(1,frame.shape[0]):\n",
    "#     # now modify the points of your geometry\n",
    "#     # you can use whatever method suits you best, this is just an example\n",
    "#     geometry.points = o3d.utility.Vector3dVector(array[i])\n",
    "#     vis.update_geometry(geometry)\n",
    "#     vis.poll_events()\n",
    "#     vis.update_renderer()\n",
    "# vis.destroy_window()"
   ]
  },
  {
   "cell_type": "code",
   "execution_count": null,
   "id": "043e98be",
   "metadata": {},
   "outputs": [],
   "source": []
  }
 ],
 "metadata": {
  "kernelspec": {
   "display_name": "Python 3 (ipykernel)",
   "language": "python",
   "name": "python3"
  },
  "language_info": {
   "codemirror_mode": {
    "name": "ipython",
    "version": 3
   },
   "file_extension": ".py",
   "mimetype": "text/x-python",
   "name": "python",
   "nbconvert_exporter": "python",
   "pygments_lexer": "ipython3",
   "version": "3.10.1"
  }
 },
 "nbformat": 4,
 "nbformat_minor": 5
}
